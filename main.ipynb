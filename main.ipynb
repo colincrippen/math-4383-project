{
 "cells": [
  {
   "cell_type": "markdown",
   "id": "97372eb4",
   "metadata": {},
   "source": [
    "# Math 4383 Project\n",
    "### Zachary Koenig, Colin Crippen"
   ]
  },
  {
   "cell_type": "code",
   "execution_count": 91,
   "id": "aa0f02ae",
   "metadata": {},
   "outputs": [
    {
     "name": "stdout",
     "output_type": "stream",
     "text": [
      "Requirement already satisfied: matplotlib in c:\\users\\zkoen\\onedrive\\desktop\\txst\\25 - spring\\num analysis ii\\math-4383-project\\.venv\\lib\\site-packages (3.10.1)\n",
      "Requirement already satisfied: contourpy>=1.0.1 in c:\\users\\zkoen\\onedrive\\desktop\\txst\\25 - spring\\num analysis ii\\math-4383-project\\.venv\\lib\\site-packages (from matplotlib) (1.3.1)\n",
      "Requirement already satisfied: cycler>=0.10 in c:\\users\\zkoen\\onedrive\\desktop\\txst\\25 - spring\\num analysis ii\\math-4383-project\\.venv\\lib\\site-packages (from matplotlib) (0.12.1)\n",
      "Requirement already satisfied: fonttools>=4.22.0 in c:\\users\\zkoen\\onedrive\\desktop\\txst\\25 - spring\\num analysis ii\\math-4383-project\\.venv\\lib\\site-packages (from matplotlib) (4.57.0)\n",
      "Requirement already satisfied: kiwisolver>=1.3.1 in c:\\users\\zkoen\\onedrive\\desktop\\txst\\25 - spring\\num analysis ii\\math-4383-project\\.venv\\lib\\site-packages (from matplotlib) (1.4.8)\n",
      "Requirement already satisfied: numpy>=1.23 in c:\\users\\zkoen\\onedrive\\desktop\\txst\\25 - spring\\num analysis ii\\math-4383-project\\.venv\\lib\\site-packages (from matplotlib) (2.2.4)\n",
      "Requirement already satisfied: packaging>=20.0 in c:\\users\\zkoen\\onedrive\\desktop\\txst\\25 - spring\\num analysis ii\\math-4383-project\\.venv\\lib\\site-packages (from matplotlib) (24.2)\n",
      "Requirement already satisfied: pillow>=8 in c:\\users\\zkoen\\onedrive\\desktop\\txst\\25 - spring\\num analysis ii\\math-4383-project\\.venv\\lib\\site-packages (from matplotlib) (11.2.1)\n",
      "Requirement already satisfied: pyparsing>=2.3.1 in c:\\users\\zkoen\\onedrive\\desktop\\txst\\25 - spring\\num analysis ii\\math-4383-project\\.venv\\lib\\site-packages (from matplotlib) (3.2.3)\n",
      "Requirement already satisfied: python-dateutil>=2.7 in c:\\users\\zkoen\\onedrive\\desktop\\txst\\25 - spring\\num analysis ii\\math-4383-project\\.venv\\lib\\site-packages (from matplotlib) (2.9.0.post0)\n",
      "Requirement already satisfied: six>=1.5 in c:\\users\\zkoen\\onedrive\\desktop\\txst\\25 - spring\\num analysis ii\\math-4383-project\\.venv\\lib\\site-packages (from python-dateutil>=2.7->matplotlib) (1.17.0)\n"
     ]
    }
   ],
   "source": [
    "!pip install matplotlib"
   ]
  },
  {
   "cell_type": "code",
   "execution_count": 92,
   "id": "8bfdc1b2",
   "metadata": {},
   "outputs": [],
   "source": [
    "import numpy as np\n",
    "import matplotlib.pyplot as plt\n",
    "from sklearn.datasets import load_digits\n",
    "from sklearn.model_selection import train_test_split"
   ]
  },
  {
   "cell_type": "code",
   "execution_count": 93,
   "id": "135c6493",
   "metadata": {},
   "outputs": [
    {
     "name": "stdout",
     "output_type": "stream",
     "text": [
      "Training set shape: (1437, 64) (1437, 10)\n",
      "Validation set shape: (360, 64) (360, 10)\n",
      "One-hot encoded y shape: (1797, 10)\n"
     ]
    }
   ],
   "source": [
    "# --- Load the 8x8 digits dataset ---\n",
    "digits = load_digits()\n",
    "\n",
    "# The dataset contains 8x8 images and their corresponding digit labels.\n",
    "# X contains image data and y contains the target labels.\n",
    "X = digits.images      # Shape: (n_samples, 8, 8)\n",
    "y = digits.target      # Shape: (n_samples,)\n",
    "\n",
    "# --- Data Preprocessing ---\n",
    "\n",
    "# 1. Flatten the images:\n",
    "#    Convert each 8x8 image into a 1D array of 64 pixels.\n",
    "n_samples = X.shape[0]\n",
    "X_flat = X.reshape(n_samples, -1)   # Now shape is (n_samples, 64)\n",
    "\n",
    "# 2. Normalize the inputs:\n",
    "#    The pixel values in the digits dataset are in the range 0-16.\n",
    "#    Dividing by 16 scales them to the range [0, 1].\n",
    "X_normalized = X_flat / 16.0\n",
    "\n",
    "# 3. One-Hot Encode the Labels:\n",
    "#    There are 10 classes (digits 0-9), so create one-hot encoded vectors.\n",
    "num_classes = 10\n",
    "y_onehot = np.eye(num_classes)[y]\n",
    "\n",
    "# --- Split into Training and Verification (Validation) Sets ---\n",
    "# For example, reserve 20% of the data for validation\n",
    "X_train, X_val, y_train, y_val = train_test_split(\n",
    "    X_normalized, y_onehot, test_size=0.2, random_state=42\n",
    ")\n",
    "\n",
    "# Verify the shapes\n",
    "print(\"Training set shape:\", X_train.shape, y_train.shape)  # Should show ~80% of the samples\n",
    "print(\"Validation set shape:\", X_val.shape, y_val.shape)      # Should show ~20% of the samples\n",
    "print(\"One-hot encoded y shape:\", y_onehot.shape)    # Expected: (n_samples, 10)"
   ]
  },
  {
   "cell_type": "markdown",
   "id": "f3e30f06",
   "metadata": {},
   "source": [
    "Sigmoid function to enable nonlinear function representation"
   ]
  },
  {
   "cell_type": "code",
   "execution_count": 94,
   "id": "a6aa7c6d",
   "metadata": {},
   "outputs": [],
   "source": [
    "# --- Activation functions and their derivatives ---\n",
    "\n",
    "def sigmoid(x):\n",
    "    \"\"\"Compute the sigmoid activation.\"\"\"\n",
    "    return 1 / (1 + np.exp(-x))\n",
    "\n",
    "def sigmoid_deriv(x):\n",
    "    \"\"\"Compute the derivative of the sigmoid function.\"\"\"\n",
    "    s = sigmoid(x)\n",
    "    return s * (1 - s)\n",
    "\n",
    "def softmax(x):\n",
    "    \"\"\"Compute the softmax activation for each row of x.\"\"\"\n",
    "    exps = np.exp(x - np.max(x, axis=1, keepdims=True))  # for numerical stability\n",
    "    return exps / np.sum(exps, axis=1, keepdims=True)"
   ]
  },
  {
   "cell_type": "code",
   "execution_count": null,
   "id": "d54b1159",
   "metadata": {},
   "outputs": [],
   "source": [
    "# --- Hyperparameters ---\n",
    "input_size = 8 * 8   # 64 inputs, one per pixel\n",
    "hidden_size = 64       # You can adjust this\n",
    "output_size = 10       # 10 classes for digits 0-9\n",
    "\n",
    "learning_rate = 0.1\n",
    "epochs = 5_000\n",
    "\n",
    "# --- Initialize Weights and Biases ---\n",
    "np.random.seed(89)  # For reproducibility\n",
    "W1 = np.random.randn(input_size, hidden_size) * 0.01\n",
    "b1 = np.zeros((1, hidden_size))\n",
    "W2 = np.random.randn(hidden_size, output_size) * 0.01\n",
    "b2 = np.zeros((1, output_size))"
   ]
  },
  {
   "cell_type": "code",
   "execution_count": 96,
   "id": "7c15f328",
   "metadata": {},
   "outputs": [
    {
     "name": "stdout",
     "output_type": "stream",
     "text": [
      "Epoch 0: loss = 0.6918\n"
     ]
    },
    {
     "name": "stdout",
     "output_type": "stream",
     "text": [
      "Epoch 100: loss = 2.3002\n",
      "Epoch 200: loss = 2.2971\n",
      "Epoch 300: loss = 2.2889\n",
      "Epoch 400: loss = 2.2661\n",
      "Epoch 500: loss = 2.2046\n",
      "Epoch 600: loss = 2.0597\n",
      "Epoch 700: loss = 1.8153\n",
      "Epoch 800: loss = 1.5567\n",
      "Epoch 900: loss = 1.3550\n",
      "Epoch 1000: loss = 1.2054\n",
      "Epoch 1100: loss = 1.0886\n",
      "Epoch 1200: loss = 0.9906\n",
      "Epoch 1300: loss = 0.9037\n",
      "Epoch 1400: loss = 0.8252\n",
      "Epoch 1500: loss = 0.7552\n",
      "Epoch 1600: loss = 0.6936\n",
      "Epoch 1700: loss = 0.6392\n",
      "Epoch 1800: loss = 0.5904\n",
      "Epoch 1900: loss = 0.5463\n",
      "Epoch 2000: loss = 0.5065\n",
      "Epoch 2100: loss = 0.4711\n",
      "Epoch 2200: loss = 0.4400\n",
      "Epoch 2300: loss = 0.4130\n",
      "Epoch 2400: loss = 0.3895\n",
      "Epoch 2500: loss = 0.3691\n",
      "Epoch 2600: loss = 0.3513\n",
      "Epoch 2700: loss = 0.3356\n",
      "Epoch 2800: loss = 0.3216\n",
      "Epoch 2900: loss = 0.3091\n"
     ]
    }
   ],
   "source": [
    "# --- Training Loop ---\n",
    "num_train_samples = X_train.shape[0]  # Use real number of training samples\n",
    "for epoch in range(epochs):\n",
    "    # Forward pass:\n",
    "    Z1 = np.dot(X_train, W1) + b1       # Input to hidden layer\n",
    "    A1 = sigmoid(Z1)                   # Hidden layer activation\n",
    "    Z2 = np.dot(A1, W2) + b2            # Hidden to output layer\n",
    "    A2 = sigmoid(Z2)                   # Output activation\n",
    "\n",
    "    # Compute Cross-Entropy Loss (adding a small constant for numerical stability)\n",
    "    loss = -np.mean(np.sum(y_train * np.log(A2 + 1e-8), axis=1))\n",
    "    \n",
    "       # Backward pass:\n",
    "    # For softmax and cross-entropy, the gradient simplifies:\n",
    "    dZ2 = A2 - y_train\n",
    "    dW2 = np.dot(A1.T, dZ2) / X_train.shape[0]\n",
    "    db2 = np.sum(dZ2, axis=0, keepdims=True) / X_train.shape[0]\n",
    "    \n",
    "    dA1 = np.dot(dZ2, W2.T)\n",
    "    dZ1 = dA1 * sigmoid_deriv(Z1)\n",
    "    dW1 = np.dot(X_train.T, dZ1) / X_train.shape[0]\n",
    "    db1 = np.sum(dZ1, axis=0, keepdims=True) / X_train.shape[0]\n",
    "    \n",
    "    # Update the weights and biases using gradient descent:\n",
    "    W2 -= learning_rate * dW2\n",
    "    b2 -= learning_rate * db2\n",
    "    W1 -= learning_rate * dW1\n",
    "    b1 -= learning_rate * db1\n",
    "\n",
    "    if epoch % 100 == 0:\n",
    "        print(f\"Epoch {epoch}: loss = {loss:.4f}\")\n",
    "\n",
    "\n",
    "# Save the trained weights and biases to disk\n",
    "np.save('W1.npy', W1)\n",
    "np.save('b1.npy', b1)\n",
    "np.save('W2.npy', W2)\n",
    "np.save('b2.npy', b2)"
   ]
  },
  {
   "cell_type": "code",
   "execution_count": 97,
   "id": "538b0882",
   "metadata": {},
   "outputs": [
    {
     "data": {
      "image/png": "[encoded data removed]",
      "text/plain": [
       "<Figure size 640x480 with 1 Axes>"
      ]
     },
     "metadata": {},
     "output_type": "display_data"
    },
    {
     "name": "stdout",
     "output_type": "stream",
     "text": [
      "Original shape of x_new: (8, 8)\n",
      "Flattened shape of x_new: (1, 64)\n",
      "Predicted digit: 8\n"
     ]
    }
   ],
   "source": [
    "# --- Display and Test One Training Image ---\n",
    "# Select an image from the training set (e.g., first image)\n",
    "idx = np.random.randint(0, X_val[0].shape)\n",
    "# Since X_train contains flattened images, reshape it back to 8x8 for display.\n",
    "img = X_train[idx].reshape(8, 8)\n",
    "label = np.argmax(y_train[idx])\n",
    "\n",
    "# Save the image array to a file. Note that the file name comes first.\n",
    "np.save(\"test.npy\", img)\n",
    "\n",
    "plt.imshow(img, cmap='gray')\n",
    "plt.title(f\"Training Image - Digit: {label}\")\n",
    "plt.axis('off')\n",
    "plt.show()\n",
    "\n",
    "W1 = np.load('W1.npy')\n",
    "b1 = np.load('b1.npy')\n",
    "W2 = np.load('W2.npy')\n",
    "b2 = np.load('b2.npy')\n",
    "\n",
    "# Load the test image. This image is expected to be an 8x8 array.\n",
    "x_new = np.load('test.npy')\n",
    "print(\"Original shape of x_new:\", x_new.shape)  # Should output: (8, 8)\n",
    "\n",
    "# Flatten the image so that it has shape (1, 64)\n",
    "x_new = x_new.reshape(1, -1)\n",
    "print(\"Flattened shape of x_new:\", x_new.shape)  # Should output: (1, 64)\n",
    "\n",
    "# Perform the forward pass\n",
    "A1_new = sigmoid(np.dot(x_new, W1) + b1)\n",
    "A2_new = sigmoid(np.dot(A1_new, W2) + b2)\n",
    "prediction = np.argmax(A2_new)\n",
    "print(\"Predicted digit:\", prediction)"
   ]
  },
  {
   "cell_type": "code",
   "execution_count": 98,
   "id": "c0a3335d",
   "metadata": {},
   "outputs": [
    {
     "name": "stdout",
     "output_type": "stream",
     "text": [
      "Test set accuracy: 94.72%\n"
     ]
    }
   ],
   "source": [
    "# --- Perform Predictions on the Test Set Using the Loaded Weights ---\n",
    "# Forward pass:\n",
    "# 1. Compute activations for the hidden layer.\n",
    "Z1 = np.dot(X_val, W1) + b1   # Linear combination for the hidden layer.\n",
    "A1 = sigmoid(Z1)              # Apply sigmoid activation.\n",
    "\n",
    "# 2. Compute activations for the output layer.\n",
    "Z2 = np.dot(A1, W2) + b2       # Linear combination for the output layer.\n",
    "A2 = sigmoid(Z2)              # Output activations.\n",
    "\n",
    "# The predicted class for each sample is the one with the highest activation.\n",
    "predictions = np.argmax(A2, axis=1)\n",
    "true_labels = np.argmax(y_val, axis=1)\n",
    "\n",
    "# Calculate the accuracy of the model on the test set.\n",
    "accuracy = np.mean(predictions == true_labels)\n",
    "print(\"Test set accuracy: {:.2f}%\".format(accuracy * 100))"
   ]
  }
 ],
 "metadata": {
  "kernelspec": {
   "display_name": ".venv",
   "language": "python",
   "name": "python3"
  },
  "language_info": {
   "codemirror_mode": {
    "name": "ipython",
    "version": 3
   },
   "file_extension": ".py",
   "mimetype": "text/x-python",
   "name": "python",
   "nbconvert_exporter": "python",
   "pygments_lexer": "ipython3",
   "version": "3.13.3"
  }
 },
 "nbformat": 4,
 "nbformat_minor": 5
}
